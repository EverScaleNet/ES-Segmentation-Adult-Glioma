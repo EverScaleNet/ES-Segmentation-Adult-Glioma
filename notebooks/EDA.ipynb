{
 "cells": [
  {
   "cell_type": "code",
   "execution_count": 9,
   "metadata": {},
   "outputs": [
    {
     "name": "stdout",
     "output_type": "stream",
     "text": [
      "File path does not exist\n"
     ]
    }
   ],
   "source": [
    "import monai\n",
    "from monai.transforms import LoadImage\n",
    "import os\n",
    "import matplotlib.pyplot as plt\n",
    "\n",
    "file_path = \"data\\\\raw\\\\training_data\\\\BraTS-GLI-00005-100\\\\BraTS-GLI-00005-100-seg.nii.gz\"\n",
    "if os.path.exists(file_path):\n",
    "    print(\"File path exists\")\n",
    "else:\n",
    "    print(\"File path does not exist\")\n",
    "\n"
   ]
  }
 ],
 "metadata": {
  "kernelspec": {
   "display_name": "glioma-segmentation",
   "language": "python",
   "name": "python3"
  },
  "language_info": {
   "codemirror_mode": {
    "name": "ipython",
    "version": 3
   },
   "file_extension": ".py",
   "mimetype": "text/x-python",
   "name": "python",
   "nbconvert_exporter": "python",
   "pygments_lexer": "ipython3",
   "version": "3.10.14"
  }
 },
 "nbformat": 4,
 "nbformat_minor": 2
}
